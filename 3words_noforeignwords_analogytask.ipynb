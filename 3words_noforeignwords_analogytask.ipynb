{
  "nbformat": 4,
  "nbformat_minor": 0,
  "metadata": {
    "colab": {
      "provenance": [],
      "authorship_tag": "ABX9TyOzZtzphCdFgK/pZOw49tNu",
      "include_colab_link": true
    },
    "kernelspec": {
      "name": "python3",
      "display_name": "Python 3"
    },
    "language_info": {
      "name": "python"
    }
  },
  "cells": [
    {
      "cell_type": "markdown",
      "metadata": {
        "id": "view-in-github",
        "colab_type": "text"
      },
      "source": [
        "<a href=\"https://colab.research.google.com/github/aminulfaizan/data_preprocessing/blob/main/3words_noforeignwords_analogytask.ipynb\" target=\"_parent\"><img src=\"https://colab.research.google.com/assets/colab-badge.svg\" alt=\"Open In Colab\"/></a>"
      ]
    },
    {
      "cell_type": "code",
      "execution_count": 2,
      "metadata": {
        "colab": {
          "base_uri": "https://localhost:8080/"
        },
        "id": "Ul4MPgcuyCHW",
        "outputId": "9f05117d-733f-49e2-823a-58954090fcec"
      },
      "outputs": [
        {
          "output_type": "stream",
          "name": "stdout",
          "text": [
            "পাখি পাখিরা মেঘ\n",
            "বোতল বোতলগুলো ভবন\n",
            "ভবন ভবনগুলো মানুষ\n",
            "বিড়াল বিড়ালগুলো কুকুর\n",
            "শিশু শিশুরা মেঘ\n",
            "মেঘ মেঘারা রঙ\n",
            "গাভী গাভীগুলো কুকুর\n",
            "আত্মীয় আত্মীয়রা স্বপ্ন\n",
            "গাধা গাধাগুলো স্বপ্ন\n",
            "স্বপ্ন স্বপ্নেরা ঈগল\n",
            "ঈগল ঈগলেরা হাতি\n",
            "হাতি হাতিরা স্বপ্ন\n",
            "চোখ চোখগুলো আঙুল\n",
            "আঙুল আঙুলগুলো ছাগল\n",
            "ছাগল ছাগলেরা ঘোড়া\n",
            "ছাগল ছাগলগুলো ঘোড়া\n",
            "ঘোড়া ঘোড়াগুলো মানুষ\n",
            "মেশিন মেশিনগুলা মানুষ\n",
            "আম আমগুলো মেশিন\n",
            "বানর বানরগুলো ইঁদুর\n",
            "ইঁদুর ইঁদুরগুলো গাড়ী\n",
            "ইঁদুর ইদুররেরা মানুষ\n",
            "সাপ সাপগুলো ইঁদুর\n",
            "মহিলা মহিলাগন রাস্তা\n",
            "পুরুষ পুরুষেরা মহিলা\n",
            "পুরুষ পুরুষগন মহিলা\n",
            "আইনজীবী আইনজীবীগন মহিলা\n",
            "মানুষ মানুষেরা আইনজীবী\n",
            "বিজ্ঞ বিজ্ঞরা ছাত্রী\n",
            "বিজ্ঞ বিজ্ঞরা আইনজীবী\n",
            "রাজনীতিবীদ রাজনীতিবীদ্গন শিক্ষক\n",
            "ছাত্র ছাত্ররা ছাত্রী\n"
          ]
        }
      ],
      "source": [
        "import re\n",
        "\n",
        "data = '''পাখি পাখিরা মেঘ মেঘারা\n",
        "বোতল বোতলগুলো ভবন ভবনগুলো\n",
        "ভবন ভবনগুলো মানুষ মানুষেরা\n",
        "\n",
        "r · aminulfaizan/Bangla-Glove · GitHub'''\n",
        "\n",
        "import re\n",
        "\n",
        "\n",
        "# Regular expression pattern to match non-Bengali characters\n",
        "foreign_pattern = re.compile(r\"[^\\u0980-\\u09FF\\s]\")\n",
        "\n",
        "# Split the data into lines\n",
        "lines = data.splitlines()\n",
        "\n",
        "# Remove lines with more than three spaces and lines with foreign characters\n",
        "cleaned_lines = []\n",
        "\n",
        "for line in lines:\n",
        "    parts = line.strip().split(' ')\n",
        "    if len(parts) > 3 and not foreign_pattern.search(line):\n",
        "        cleaned_line = ' '.join(parts[:3])\n",
        "        cleaned_lines.append(cleaned_line)\n",
        "\n",
        "cleaned_data = '\\n'.join(cleaned_lines)\n",
        "print(cleaned_data)\n",
        "\n"
      ]
    },
    {
      "cell_type": "code",
      "source": [
        "import re\n",
        "\n",
        "data = '''Skip to content\n",
        "বাংলাদেশ ঢাকা ইসলামাবাদ পাকিস্তান\n",
        "বাংলাদেশ ঢাকা দোহা কাতার\n",
        "বাংলাদেশ ঢাকা মস্কো রাশিয়া\n",
        "wjhdj wh\n",
        "\n",
        "খালা বোন ভাই\n",
        "স্বামী রাজা রানি স্ত্রী স্বামী\n",
        "রানি স্ত্রী রাজা স্বামী\n",
        "\n",
        "\n",
        "\n",
        "r · aminulfaizan/Bangla-Glove · GitHub'''\n",
        "\n",
        "# Regular expression pattern to match non-Bengali characters\n",
        "foreign_pattern = re.compile(r\"[^\\u0980-\\u09FF\\s]\")\n",
        "\n",
        "# Remove lines with more than three spaces and lines with foreign characters\n",
        "\n",
        "cleaned_lines = []\n",
        "\n",
        "for line in data.split('\\n'):\n",
        "    if line.count(' ') >= 4 or line.count(' ') < 3 :\n",
        "        continue\n",
        "    if foreign_pattern.search(line):\n",
        "        continue\n",
        "    cleaned_lines.append(line)\n",
        "\n",
        "cleaned_data = '\\n'.join(cleaned_lines)\n",
        "print(cleaned_data)\n"
      ],
      "metadata": {
        "id": "SRMMPi7CyM9S"
      },
      "execution_count": null,
      "outputs": []
    }
  ]
}