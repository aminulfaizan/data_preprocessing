{
  "nbformat": 4,
  "nbformat_minor": 0,
  "metadata": {
    "colab": {
      "provenance": [],
      "include_colab_link": true
    },
    "kernelspec": {
      "name": "python3",
      "display_name": "Python 3"
    },
    "language_info": {
      "name": "python"
    },
    "accelerator": "TPU",
    "gpuClass": "standard"
  },
  "cells": [
    {
      "cell_type": "markdown",
      "metadata": {
        "id": "view-in-github",
        "colab_type": "text"
      },
      "source": [
        "<a href=\"https://colab.research.google.com/github/aminulfaizan/data_preprocessing/blob/test1/pre_process2.ipynb\" target=\"_parent\"><img src=\"https://colab.research.google.com/assets/colab-badge.svg\" alt=\"Open In Colab\"/></a>"
      ]
    },
    {
      "cell_type": "code",
      "source": [
        "from google.colab import drive\n",
        "drive.mount('/content/drive')\n",
        "%pwd"
      ],
      "metadata": {
        "colab": {
          "base_uri": "https://localhost:8080/",
          "height": 52
        },
        "id": "kbfYT-CRNvLc",
        "outputId": "7c7dadca-bf40-41e5-f058-9f97239c601b"
      },
      "execution_count": 1,
      "outputs": [
        {
          "output_type": "stream",
          "name": "stdout",
          "text": [
            "Mounted at /content/drive\n"
          ]
        },
        {
          "output_type": "execute_result",
          "data": {
            "text/plain": [
              "'/content'"
            ],
            "application/vnd.google.colaboratory.intrinsic+json": {
              "type": "string"
            }
          },
          "metadata": {},
          "execution_count": 1
        }
      ]
    },
    {
      "cell_type": "code",
      "source": [
        "%cd content"
      ],
      "metadata": {
        "colab": {
          "base_uri": "https://localhost:8080/"
        },
        "id": "MQdyPs2fTepL",
        "outputId": "073a8ace-ab96-4110-eb4f-58bd75549033"
      },
      "execution_count": null,
      "outputs": [
        {
          "output_type": "stream",
          "name": "stdout",
          "text": [
            "[Errno 2] No such file or directory: 'content'\n",
            "/content\n"
          ]
        }
      ]
    },
    {
      "cell_type": "code",
      "source": [
        "#%mkdir data_preprocess\n",
        "%cd data_preprocess\n",
        "%pwd"
      ],
      "metadata": {
        "colab": {
          "base_uri": "https://localhost:8080/",
          "height": 70
        },
        "id": "R0SIc3hvT2UN",
        "outputId": "e17ba9ac-7925-4d72-8914-822007ddb55f"
      },
      "execution_count": null,
      "outputs": [
        {
          "output_type": "stream",
          "name": "stdout",
          "text": [
            "[Errno 2] No such file or directory: 'data_preprocess'\n",
            "/content\n"
          ]
        },
        {
          "output_type": "execute_result",
          "data": {
            "text/plain": [
              "'/content'"
            ],
            "application/vnd.google.colaboratory.intrinsic+json": {
              "type": "string"
            }
          },
          "metadata": {},
          "execution_count": 3
        }
      ]
    },
    {
      "cell_type": "markdown",
      "source": [
        "# tokenize the data by, \"Python's Split function\" and ICU-Tokenizer"
      ],
      "metadata": {
        "id": "wZUHIH7-5KM4"
      }
    },
    {
      "cell_type": "code",
      "source": [
        "!pip install ICU-Tokenizer"
      ],
      "metadata": {
        "id": "btpiKWKvNzub"
      },
      "execution_count": null,
      "outputs": []
    },
    {
      "cell_type": "code",
      "source": [
        "from icu_tokenizer import Tokenizer\n",
        "tokenizer = Tokenizer(lang='bengli')"
      ],
      "metadata": {
        "id": "AAkNWOYU5l64"
      },
      "execution_count": null,
      "outputs": []
    },
    {
      "cell_type": "code",
      "source": [
        "import pandas as pd\n",
        "import re\n",
        "from pprint import pprint\n"
      ],
      "metadata": {
        "id": "PoWppdENN3B3"
      },
      "execution_count": null,
      "outputs": []
    },
    {
      "cell_type": "markdown",
      "source": [
        "converting the csv file into pandas Data-Frame"
      ],
      "metadata": {
        "id": "2GiW9DUz5qfq"
      }
    },
    {
      "cell_type": "code",
      "source": [
        "#Load the CSV into a DataFrame:\n",
        "import pandas as pd\n",
        "df = pd.read_csv('/content/drive/MyDrive/Colab Notebooks/final_data/main_corpus.csv')"
      ],
      "metadata": {
        "id": "m-lYhb6lPpDv"
      },
      "execution_count": null,
      "outputs": []
    },
    {
      "cell_type": "code",
      "source": [
        "df"
      ],
      "metadata": {
        "id": "j2l9nqP4P1Oo",
        "colab": {
          "base_uri": "https://localhost:8080/",
          "height": 423
        },
        "outputId": "efd205db-e31c-4037-ea03-3c42970c4e32"
      },
      "execution_count": null,
      "outputs": [
        {
          "output_type": "execute_result",
          "data": {
            "text/plain": [
              "                                               final_body\n",
              "0        নিখোঁজের দিন পর মিললো গলাকাটা মরদেহ কুড়িগ্রাম...\n",
              "1                                  কুসতুনতুনিয়ায় কয়েকদিন \n",
              "2        জাল টাকা ছড়িয়ে দিতে সহায়তা করেন অসাধু ব্যাংক...\n",
              "3        অমিত হাবিবের মৃত্যুতে এডিটরস গিল্ডের শোক জ্যে...\n",
              "4        রোহিঙ্গা গণহত্যা মামলা দায়ীদের দায়বদ্ধতার আওত...\n",
              "...                                                   ...\n",
              "321072  ব্যর্থতার অপবাদ ঘোচাতে চান খোকা সালাম বিএনপির ...\n",
              "321073  লংমার্চ মহানগর বিএনপির প্রস্তুতি সভা শনিবার ঢা...\n",
              "321074  রাজনীতিতে সর্বস্তরের অন্তর্ভূক্তি না ঘটলে অস্থ...\n",
              "321075  খন্দকার মোশাররফ হাসপাতালে বিএনপির স্থায়ী কমিটি...\n",
              "321076  ভারতে ক্ষমতার পরিবর্তন চায় বিএনপি তিস্তাসহ অভি...\n",
              "\n",
              "[321077 rows x 1 columns]"
            ],
            "text/html": [
              "\n",
              "  <div id=\"df-e4871fc4-79d2-4cb8-97c0-1da0f9d4f829\">\n",
              "    <div class=\"colab-df-container\">\n",
              "      <div>\n",
              "<style scoped>\n",
              "    .dataframe tbody tr th:only-of-type {\n",
              "        vertical-align: middle;\n",
              "    }\n",
              "\n",
              "    .dataframe tbody tr th {\n",
              "        vertical-align: top;\n",
              "    }\n",
              "\n",
              "    .dataframe thead th {\n",
              "        text-align: right;\n",
              "    }\n",
              "</style>\n",
              "<table border=\"1\" class=\"dataframe\">\n",
              "  <thead>\n",
              "    <tr style=\"text-align: right;\">\n",
              "      <th></th>\n",
              "      <th>final_body</th>\n",
              "    </tr>\n",
              "  </thead>\n",
              "  <tbody>\n",
              "    <tr>\n",
              "      <th>0</th>\n",
              "      <td>নিখোঁজের দিন পর মিললো গলাকাটা মরদেহ কুড়িগ্রাম...</td>\n",
              "    </tr>\n",
              "    <tr>\n",
              "      <th>1</th>\n",
              "      <td>কুসতুনতুনিয়ায় কয়েকদিন</td>\n",
              "    </tr>\n",
              "    <tr>\n",
              "      <th>2</th>\n",
              "      <td>জাল টাকা ছড়িয়ে দিতে সহায়তা করেন অসাধু ব্যাংক...</td>\n",
              "    </tr>\n",
              "    <tr>\n",
              "      <th>3</th>\n",
              "      <td>অমিত হাবিবের মৃত্যুতে এডিটরস গিল্ডের শোক জ্যে...</td>\n",
              "    </tr>\n",
              "    <tr>\n",
              "      <th>4</th>\n",
              "      <td>রোহিঙ্গা গণহত্যা মামলা দায়ীদের দায়বদ্ধতার আওত...</td>\n",
              "    </tr>\n",
              "    <tr>\n",
              "      <th>...</th>\n",
              "      <td>...</td>\n",
              "    </tr>\n",
              "    <tr>\n",
              "      <th>321072</th>\n",
              "      <td>ব্যর্থতার অপবাদ ঘোচাতে চান খোকা সালাম বিএনপির ...</td>\n",
              "    </tr>\n",
              "    <tr>\n",
              "      <th>321073</th>\n",
              "      <td>লংমার্চ মহানগর বিএনপির প্রস্তুতি সভা শনিবার ঢা...</td>\n",
              "    </tr>\n",
              "    <tr>\n",
              "      <th>321074</th>\n",
              "      <td>রাজনীতিতে সর্বস্তরের অন্তর্ভূক্তি না ঘটলে অস্থ...</td>\n",
              "    </tr>\n",
              "    <tr>\n",
              "      <th>321075</th>\n",
              "      <td>খন্দকার মোশাররফ হাসপাতালে বিএনপির স্থায়ী কমিটি...</td>\n",
              "    </tr>\n",
              "    <tr>\n",
              "      <th>321076</th>\n",
              "      <td>ভারতে ক্ষমতার পরিবর্তন চায় বিএনপি তিস্তাসহ অভি...</td>\n",
              "    </tr>\n",
              "  </tbody>\n",
              "</table>\n",
              "<p>321077 rows × 1 columns</p>\n",
              "</div>\n",
              "      <button class=\"colab-df-convert\" onclick=\"convertToInteractive('df-e4871fc4-79d2-4cb8-97c0-1da0f9d4f829')\"\n",
              "              title=\"Convert this dataframe to an interactive table.\"\n",
              "              style=\"display:none;\">\n",
              "        \n",
              "  <svg xmlns=\"http://www.w3.org/2000/svg\" height=\"24px\"viewBox=\"0 0 24 24\"\n",
              "       width=\"24px\">\n",
              "    <path d=\"M0 0h24v24H0V0z\" fill=\"none\"/>\n",
              "    <path d=\"M18.56 5.44l.94 2.06.94-2.06 2.06-.94-2.06-.94-.94-2.06-.94 2.06-2.06.94zm-11 1L8.5 8.5l.94-2.06 2.06-.94-2.06-.94L8.5 2.5l-.94 2.06-2.06.94zm10 10l.94 2.06.94-2.06 2.06-.94-2.06-.94-.94-2.06-.94 2.06-2.06.94z\"/><path d=\"M17.41 7.96l-1.37-1.37c-.4-.4-.92-.59-1.43-.59-.52 0-1.04.2-1.43.59L10.3 9.45l-7.72 7.72c-.78.78-.78 2.05 0 2.83L4 21.41c.39.39.9.59 1.41.59.51 0 1.02-.2 1.41-.59l7.78-7.78 2.81-2.81c.8-.78.8-2.07 0-2.86zM5.41 20L4 18.59l7.72-7.72 1.47 1.35L5.41 20z\"/>\n",
              "  </svg>\n",
              "      </button>\n",
              "      \n",
              "  <style>\n",
              "    .colab-df-container {\n",
              "      display:flex;\n",
              "      flex-wrap:wrap;\n",
              "      gap: 12px;\n",
              "    }\n",
              "\n",
              "    .colab-df-convert {\n",
              "      background-color: #E8F0FE;\n",
              "      border: none;\n",
              "      border-radius: 50%;\n",
              "      cursor: pointer;\n",
              "      display: none;\n",
              "      fill: #1967D2;\n",
              "      height: 32px;\n",
              "      padding: 0 0 0 0;\n",
              "      width: 32px;\n",
              "    }\n",
              "\n",
              "    .colab-df-convert:hover {\n",
              "      background-color: #E2EBFA;\n",
              "      box-shadow: 0px 1px 2px rgba(60, 64, 67, 0.3), 0px 1px 3px 1px rgba(60, 64, 67, 0.15);\n",
              "      fill: #174EA6;\n",
              "    }\n",
              "\n",
              "    [theme=dark] .colab-df-convert {\n",
              "      background-color: #3B4455;\n",
              "      fill: #D2E3FC;\n",
              "    }\n",
              "\n",
              "    [theme=dark] .colab-df-convert:hover {\n",
              "      background-color: #434B5C;\n",
              "      box-shadow: 0px 1px 3px 1px rgba(0, 0, 0, 0.15);\n",
              "      filter: drop-shadow(0px 1px 2px rgba(0, 0, 0, 0.3));\n",
              "      fill: #FFFFFF;\n",
              "    }\n",
              "  </style>\n",
              "\n",
              "      <script>\n",
              "        const buttonEl =\n",
              "          document.querySelector('#df-e4871fc4-79d2-4cb8-97c0-1da0f9d4f829 button.colab-df-convert');\n",
              "        buttonEl.style.display =\n",
              "          google.colab.kernel.accessAllowed ? 'block' : 'none';\n",
              "\n",
              "        async function convertToInteractive(key) {\n",
              "          const element = document.querySelector('#df-e4871fc4-79d2-4cb8-97c0-1da0f9d4f829');\n",
              "          const dataTable =\n",
              "            await google.colab.kernel.invokeFunction('convertToInteractive',\n",
              "                                                     [key], {});\n",
              "          if (!dataTable) return;\n",
              "\n",
              "          const docLinkHtml = 'Like what you see? Visit the ' +\n",
              "            '<a target=\"_blank\" href=https://colab.research.google.com/notebooks/data_table.ipynb>data table notebook</a>'\n",
              "            + ' to learn more about interactive tables.';\n",
              "          element.innerHTML = '';\n",
              "          dataTable['output_type'] = 'display_data';\n",
              "          await google.colab.output.renderOutput(dataTable, element);\n",
              "          const docLink = document.createElement('div');\n",
              "          docLink.innerHTML = docLinkHtml;\n",
              "          element.appendChild(docLink);\n",
              "        }\n",
              "      </script>\n",
              "    </div>\n",
              "  </div>\n",
              "  "
            ]
          },
          "metadata": {},
          "execution_count": 4
        }
      ]
    },
    {
      "cell_type": "markdown",
      "source": [
        "## Python's Split functioin"
      ],
      "metadata": {
        "id": "BW6jxkK47OQS"
      }
    },
    {
      "cell_type": "markdown",
      "source": [
        "split the DataFrame if require"
      ],
      "metadata": {
        "id": "kg0K9ryda4EH"
      }
    },
    {
      "cell_type": "code",
      "source": [
        "# splitting dataframe by row index\n",
        "df_1 = df.iloc[:255000,:]\n",
        "df_2 = df.iloc[30000:,:]\n",
        "print(\"Shape of new dataframes - {} , {}\".format(df_1.shape, df_2.shape))"
      ],
      "metadata": {
        "colab": {
          "base_uri": "https://localhost:8080/"
        },
        "id": "DEF2HJ3Da-pp",
        "outputId": "8db68410-3632-4074-bf26-a9e3d8fdf87e"
      },
      "execution_count": null,
      "outputs": [
        {
          "output_type": "stream",
          "name": "stdout",
          "text": [
            "Shape of new dataframes - (255000, 1) , (291077, 1)\n"
          ]
        }
      ]
    },
    {
      "cell_type": "markdown",
      "source": [
        "making the corpus by using python's \"**split**\" function"
      ],
      "metadata": {
        "id": "BJyLDzdf6WhE"
      }
    },
    {
      "cell_type": "code",
      "source": [
        "corpus = []\n",
        "for text in df_1['final_body']:\n",
        "  words = [word for word in text.split()]\n",
        "  corpus.append(words)"
      ],
      "metadata": {
        "id": "vyakyWk3a9Be"
      },
      "execution_count": null,
      "outputs": []
    },
    {
      "cell_type": "markdown",
      "source": [
        "**you can download your data from colab by this**"
      ],
      "metadata": {
        "id": "cUf3Zotg6uIZ"
      }
    },
    {
      "cell_type": "code",
      "source": [
        "from google.colab import files\n",
        "test2.to_csv('filename.csv', index=False) \n",
        "#files.download('filename.csv')  #this line is for dowloading the file"
      ],
      "metadata": {
        "id": "R9b6XwVv1gwq"
      },
      "execution_count": null,
      "outputs": []
    },
    {
      "cell_type": "markdown",
      "source": [
        "## ICU-Tokenizer"
      ],
      "metadata": {
        "id": "nTYJUVc77GcC"
      }
    },
    {
      "cell_type": "code",
      "source": [
        "!pip install ICU-Tokenizer"
      ],
      "metadata": {
        "id": "zeZJYiF17-k-"
      },
      "execution_count": null,
      "outputs": []
    },
    {
      "cell_type": "code",
      "source": [
        "from icu_tokenizer import Tokenizer\n",
        "tokenizer = Tokenizer(lang='bengli')"
      ],
      "metadata": {
        "id": "uuu1yQ3p8CWL"
      },
      "execution_count": null,
      "outputs": []
    },
    {
      "cell_type": "code",
      "source": [
        "# splitting dataframe by row index\n",
        "df_1 = df.iloc[:200000,:]\n",
        "df_2 = df.iloc[30000:,:]\n",
        "print(\"Shape of new dataframes - {} , {}\".format(df_1.shape, df_2.shape))\n"
      ],
      "metadata": {
        "colab": {
          "base_uri": "https://localhost:8080/"
        },
        "id": "jkEtX7qLhY2K",
        "outputId": "6d081f21-420c-46e3-9c7c-999afa8c82c3"
      },
      "execution_count": null,
      "outputs": [
        {
          "output_type": "stream",
          "name": "stdout",
          "text": [
            "Shape of new dataframes - (200000, 1) , (291077, 1)\n"
          ]
        }
      ]
    },
    {
      "cell_type": "code",
      "source": [
        "corpus = []\n",
        "for text in df_1['final_body']:\n",
        "  words = [word for word in tokenizer.tokenize(text)]\n",
        "  corpus.append(words)"
      ],
      "metadata": {
        "id": "LT_kBV_XQH7I"
      },
      "execution_count": null,
      "outputs": []
    },
    {
      "cell_type": "markdown",
      "source": [
        "### saving the corpus into any other other file format"
      ],
      "metadata": {
        "id": "zjaxWIXq8NOq"
      }
    },
    {
      "cell_type": "code",
      "source": [
        "\n",
        "import numpy as np\n",
        "import json\n",
        "import string"
      ],
      "metadata": {
        "id": "g1bw4W7NjXWP"
      },
      "execution_count": null,
      "outputs": []
    },
    {
      "cell_type": "code",
      "source": [
        "np.savetxt(\"corpus.text\", corpus, delimiter=\", \", fmt=\"% s\")\n",
        "#files.download('corpus.csv')\n",
        "%pwd"
      ],
      "metadata": {
        "colab": {
          "base_uri": "https://localhost:8080/",
          "height": 90
        },
        "id": "HYhUdW7GidYQ",
        "outputId": "c9865691-a8a9-4c48-ecba-fee261384e4d"
      },
      "execution_count": null,
      "outputs": [
        {
          "output_type": "stream",
          "name": "stderr",
          "text": [
            "/usr/local/lib/python3.8/dist-packages/numpy/lib/npyio.py:1378: VisibleDeprecationWarning: Creating an ndarray from ragged nested sequences (which is a list-or-tuple of lists-or-tuples-or ndarrays with different lengths or shapes) is deprecated. If you meant to do this, you must specify 'dtype=object' when creating the ndarray.\n",
            "  X = np.asarray(X)\n"
          ]
        },
        {
          "output_type": "execute_result",
          "data": {
            "text/plain": [
              "'/content'"
            ],
            "application/vnd.google.colaboratory.intrinsic+json": {
              "type": "string"
            }
          },
          "metadata": {},
          "execution_count": 7
        }
      ]
    },
    {
      "cell_type": "code",
      "source": [
        "#this line is for dowloading the file\n",
        "from google.colab import files\n",
        "test2.to_csv('filename.csv', index=False) \n",
        "#files.download('filename.csv') "
      ],
      "metadata": {
        "id": "duJPG02107kC"
      },
      "execution_count": null,
      "outputs": []
    },
    {
      "cell_type": "code",
      "source": [
        "corpus2 = []\n",
        "for text in df_2['final_body']:\n",
        "  words = [word for word in tokenizer.tokenize(text)]\n",
        "  corpus2.append(words)"
      ],
      "metadata": {
        "id": "PzFfMn4rh8YW"
      },
      "execution_count": null,
      "outputs": []
    },
    {
      "cell_type": "code",
      "source": [
        "np.savetxt(\"corpus2.csv\", corpus2, delimiter=\", \", fmt=\"% s\")\n",
        "#files.download('corpus.csv')\n",
        "%pwd"
      ],
      "metadata": {
        "id": "LwNvX5DOkCSg"
      },
      "execution_count": null,
      "outputs": []
    }
  ]
}